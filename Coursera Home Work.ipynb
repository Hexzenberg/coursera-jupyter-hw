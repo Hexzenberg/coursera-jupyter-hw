{
 "cells": [
  {
   "cell_type": "markdown",
   "id": "a0928b0e",
   "metadata": {},
   "source": [
    "Coursera Home Work"
   ]
  },
  {
   "cell_type": "markdown",
   "id": "8437d239",
   "metadata": {},
   "source": [
    "This markdown cell is for introduction"
   ]
  },
  {
   "cell_type": "markdown",
   "id": "40bdb087",
   "metadata": {},
   "source": [
    "Data Science Lnaguages:\n",
    "- Python\n",
    "- R\n",
    "- SQL\n",
    "- Java\n",
    "- Julia\n",
    "- Scala\n",
    "- C/C++\n",
    "- JavaScript\n",
    "- Swift\n",
    "- Go\n",
    "- MATLAB\n",
    "- SAS"
   ]
  },
  {
   "cell_type": "markdown",
   "id": "90b9063d",
   "metadata": {},
   "source": [
    "Data Science Libraries:\n",
    "- TensorFlow\n",
    "- NumPy\n",
    "- SciPy \n",
    "- Pandas\n",
    "- Matplotlib \n",
    "- Keras\n",
    "- SciKit-Learn\n",
    "- PyTorch\n",
    "- Scrapy\n",
    "- BeautifulSoup\n",
    "- LightGBM\n",
    "- ELI5\n",
    "- Theano\n",
    "- NuPIC\n",
    "- Ramp\n",
    "- Pipenv\n",
    "- Bob\n",
    "- PyBrain\n",
    "- Caffe2\n",
    "- Chainer"
   ]
  },
  {
   "cell_type": "markdown",
   "id": "30c90969",
   "metadata": {},
   "source": [
    "| Tool                | Description                                                                                   |\n",
    "|---------------------|-----------------------------------------------------------------------------------------------|\n",
    "| **Python**          | Widely used for data analysis, machine learning, and scientific computing.                   |\n",
    "| **R**               | Specialized for statistical analysis, data manipulation, and visualization.                   |\n",
    "| **Jupyter Notebook**| Interactive environment for creating and sharing documents containing code, text, and plots. |\n",
    "| **Pandas**          | Python library for data manipulation and analysis.                                           |\n",
    "| **NumPy**           | Fundamental package for scientific computing with Python.                                     |\n",
    "| **Scikit-learn**    | Machine learning library for Python.                                                         |\n",
    "| **TensorFlow**      | Open-source machine learning framework developed by Google.                                   |\n",
    "| **Keras**           | High-level neural networks API (often used with TensorFlow).                                  |\n",
    "| **Matplotlib**      | Python plotting library for creating static, animated, and interactive visualizations.        |\n",
    "| **Seaborn**         | Statistical data visualization based on Matplotlib.                                           |\n",
    "| **ggplot2**         | R package for creating elegant and complex visualizations.                                     |\n",
    "| **SQL**             | Query language for managing and analyzing relational databases.                                |\n"
   ]
  },
  {
   "cell_type": "code",
   "execution_count": 4,
   "id": "01338900",
   "metadata": {},
   "outputs": [
    {
     "data": {
      "text/plain": [
       "6"
      ]
     },
     "execution_count": 4,
     "metadata": {},
     "output_type": "execute_result"
    }
   ],
   "source": [
    "2*3"
   ]
  },
  {
   "cell_type": "code",
   "execution_count": 3,
   "id": "65767760",
   "metadata": {},
   "outputs": [
    {
     "data": {
      "text/plain": [
       "2.0"
      ]
     },
     "execution_count": 3,
     "metadata": {},
     "output_type": "execute_result"
    }
   ],
   "source": [
    "4/2"
   ]
  },
  {
   "cell_type": "markdown",
   "id": "0b9a1a58",
   "metadata": {},
   "source": [
    "List of objectives:\n",
    "- Exercise 2 - Create a markdown cell with the title of the notebook. (1 pt)\n",
    "- Exercise 3 - Create a markdown cell for an introduction. (1 pt)\n",
    "- Exercise 4 - Create a markdown cell to list data science languages. (3 pts)\n",
    "- Exercise 5 - Create a markdown cell to list data science libraries. (3 pts)\n",
    "- Exercise 6 - Create a markdown cell with a table of Data Science tools. (3 pts)\n",
    "- Exercise 7 - Create a markdown cell introducing arithmetic expression examples. (1 pt)\n",
    "- Exercise 8 - Create a code cell to multiply and add numbers. (2 pts)\n",
    "- Exercise 9 - Create a code cell to convert minutes to hours. (2 pts)\n",
    "- Exercise 10 -Insert a markdown cell to list Objectives. (3 pts)\n",
    "- Exercise 11 - Create a markdown cell to indicate the Author’s name. (2 pts)\n",
    "- Exercise 12 - Share your notebook through GitHub (3 pts)\n",
    "- Exercise 13 - Take a screenshot of the first page of the notebook. (1 pt)"
   ]
  },
  {
   "cell_type": "markdown",
   "id": "afee8f3b",
   "metadata": {},
   "source": [
    "Nikhil Kumar Chaudhary"
   ]
  }
 ],
 "metadata": {
  "kernelspec": {
   "display_name": "Python 3 (ipykernel)",
   "language": "python",
   "name": "python3"
  },
  "language_info": {
   "codemirror_mode": {
    "name": "ipython",
    "version": 3
   },
   "file_extension": ".py",
   "mimetype": "text/x-python",
   "name": "python",
   "nbconvert_exporter": "python",
   "pygments_lexer": "ipython3",
   "version": "3.10.9"
  }
 },
 "nbformat": 4,
 "nbformat_minor": 5
}
