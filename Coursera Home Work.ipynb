{
 "cells": [
  {
   "cell_type": "markdown",
   "id": "8a9f5f8b",
   "metadata": {},
   "source": [
    "Coursera Home Work"
   ]
  },
  {
   "cell_type": "markdown",
   "id": "170bce6c",
   "metadata": {},
   "source": [
    "This markdown cell is for introduction"
   ]
  },
  {
   "cell_type": "markdown",
   "id": "ad850574",
   "metadata": {},
   "source": [
    "Data Science Lnaguages:\n",
    "- Python\n",
    "- R\n",
    "- SQL\n",
    "- Java\n",
    "- Julia\n",
    "- Scala\n",
    "- C/C++\n",
    "- JavaScript\n",
    "- Swift\n",
    "- Go\n",
    "- MATLAB\n",
    "- SAS"
   ]
  },
  {
   "cell_type": "markdown",
   "id": "9c30ff46",
   "metadata": {},
   "source": [
    "Data Science Libraries:\n",
    "- TensorFlow\n",
    "- NumPy\n",
    "- SciPy \n",
    "- Pandas\n",
    "- Matplotlib \n",
    "- Keras\n",
    "- SciKit-Learn\n",
    "- PyTorch\n",
    "- Scrapy\n",
    "- BeautifulSoup\n",
    "- LightGBM\n",
    "- ELI5\n",
    "- Theano\n",
    "- NuPIC\n",
    "- Ramp\n",
    "- Pipenv\n",
    "- Bob\n",
    "- PyBrain\n",
    "- Caffe2\n",
    "- Chainer"
   ]
  },
  {
   "cell_type": "markdown",
   "id": "487db40a",
   "metadata": {},
   "source": [
    "| Tool                | Description                                                                                   |\n",
    "|---------------------|-----------------------------------------------------------------------------------------------|\n",
    "| **Python**          | Widely used for data analysis, machine learning, and scientific computing.                   |\n",
    "| **R**               | Specialized for statistical analysis, data manipulation, and visualization.                   |\n",
    "| **Jupyter Notebook**| Interactive environment for creating and sharing documents containing code, text, and plots. |\n",
    "| **Pandas**          | Python library for data manipulation and analysis.                                           |\n",
    "| **NumPy**           | Fundamental package for scientific computing with Python.                                     |\n",
    "| **Scikit-learn**    | Machine learning library for Python.                                                         |\n",
    "| **TensorFlow**      | Open-source machine learning framework developed by Google.                                   |\n",
    "| **Keras**           | High-level neural networks API (often used with TensorFlow).                                  |\n",
    "| **Matplotlib**      | Python plotting library for creating static, animated, and interactive visualizations.        |\n",
    "| **Seaborn**         | Statistical data visualization based on Matplotlib.                                           |\n",
    "| **ggplot2**         | R package for creating elegant and complex visualizations.                                     |\n",
    "| **SQL**             | Query language for managing and analyzing relational databases.                                |\n"
   ]
  },
  {
   "cell_type": "markdown",
   "id": "a890e2a2",
   "metadata": {},
   "source": [
    "Introductory Arithmetic"
   ]
  },
  {
   "cell_type": "code",
   "execution_count": 4,
   "id": "679723a3",
   "metadata": {},
   "outputs": [
    {
     "data": {
      "text/plain": [
       "6"
      ]
     },
     "execution_count": 4,
     "metadata": {},
     "output_type": "execute_result"
    }
   ],
   "source": [
    "2*3"
   ]
  },
  {
   "cell_type": "code",
   "execution_count": 3,
   "id": "95dc7bc9",
   "metadata": {},
   "outputs": [
    {
     "data": {
      "text/plain": [
       "2.0"
      ]
     },
     "execution_count": 3,
     "metadata": {},
     "output_type": "execute_result"
    }
   ],
   "source": [
    "4/2"
   ]
  },
  {
   "cell_type": "markdown",
   "id": "0c4489f7",
   "metadata": {},
   "source": [
    "List of objectives:\n",
    "- Exercise 2 - Create a markdown cell with the title of the notebook. (1 pt)\n",
    "- Exercise 3 - Create a markdown cell for an introduction. (1 pt)\n",
    "- Exercise 4 - Create a markdown cell to list data science languages. (3 pts)\n",
    "- Exercise 5 - Create a markdown cell to list data science libraries. (3 pts)\n",
    "- Exercise 6 - Create a markdown cell with a table of Data Science tools. (3 pts)\n",
    "- Exercise 7 - Create a markdown cell introducing arithmetic expression examples. (1 pt)\n",
    "- Exercise 8 - Create a code cell to multiply and add numbers. (2 pts)\n",
    "- Exercise 9 - Create a code cell to convert minutes to hours. (2 pts)\n",
    "- Exercise 10 -Insert a markdown cell to list Objectives. (3 pts)\n",
    "- Exercise 11 - Create a markdown cell to indicate the Author’s name. (2 pts)\n",
    "- Exercise 12 - Share your notebook through GitHub (3 pts)\n",
    "- Exercise 13 - Take a screenshot of the first page of the notebook. (1 pt)"
   ]
  },
  {
   "cell_type": "markdown",
   "id": "6ee4d0a3",
   "metadata": {},
   "source": [
    "Nikhil Kumar Chaudhary"
   ]
  }
 ],
 "metadata": {
  "kernelspec": {
   "display_name": "Python 3 (ipykernel)",
   "language": "python",
   "name": "python3"
  },
  "language_info": {
   "codemirror_mode": {
    "name": "ipython",
    "version": 3
   },
   "file_extension": ".py",
   "mimetype": "text/x-python",
   "name": "python",
   "nbconvert_exporter": "python",
   "pygments_lexer": "ipython3",
   "version": "3.10.9"
  }
 },
 "nbformat": 4,
 "nbformat_minor": 5
}
